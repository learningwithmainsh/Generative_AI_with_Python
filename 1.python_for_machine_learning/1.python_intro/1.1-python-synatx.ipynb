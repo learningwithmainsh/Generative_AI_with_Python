{
 "cells": [
  {
   "cell_type": "code",
   "execution_count": 3,
   "metadata": {},
   "outputs": [
    {
     "name": "stdout",
     "output_type": "stream",
     "text": [
      "Learninh python\n"
     ]
    }
   ],
   "source": [
    "##Basic\n",
    "print(\"Learninh python\")"
   ]
  },
  {
   "cell_type": "markdown",
   "metadata": {},
   "source": [
    "Multiline Comment"
   ]
  },
  {
   "cell_type": "code",
   "execution_count": 7,
   "metadata": {},
   "outputs": [
    {
     "name": "stdout",
     "output_type": "stream",
     "text": [
      "25.0\n",
      "100\n",
      "52\n",
      "48\n"
     ]
    }
   ],
   "source": [
    "'''I am performing basic maths \n",
    "operation\n",
    "'''\n",
    "print(50/2)\n",
    "\n",
    "print(50*2)\n",
    "\n",
    "print(50+2)\n",
    "\n",
    "print(50-2)"
   ]
  },
  {
   "cell_type": "markdown",
   "metadata": {},
   "source": [
    "Case Senstive"
   ]
  },
  {
   "cell_type": "code",
   "execution_count": 8,
   "metadata": {},
   "outputs": [
    {
     "name": "stdout",
     "output_type": "stream",
     "text": [
      "Facebook\n",
      "Google\n",
      "Microsoft\n"
     ]
    }
   ],
   "source": [
    "tittle = \"Facebook\"\n",
    "Tittle = \"Google\"\n",
    "TittlE = \"Microsoft\"\n",
    "\n",
    "print(tittle)\n",
    "print(Tittle)\n",
    "print(TittlE)"
   ]
  },
  {
   "cell_type": "markdown",
   "metadata": {},
   "source": [
    "Indentation\n",
    "In Python, indentation is the use of spaces or tabs at the beginning of a line of code to indicate a block of code. It is a syntactical requirement, not just a matter of style or preference"
   ]
  },
  {
   "cell_type": "code",
   "execution_count": 11,
   "metadata": {},
   "outputs": [
    {
     "name": "stdout",
     "output_type": "stream",
     "text": [
      "10\n"
     ]
    }
   ],
   "source": [
    "age = 10\n",
    "if age>20:\n",
    "    print(age)\n",
    "    \n",
    "\n",
    "print(age)"
   ]
  },
  {
   "cell_type": "markdown",
   "metadata": {},
   "source": [
    "Symentaics Basic Understanding\n",
    "Variable Assignment\n"
   ]
  },
  {
   "cell_type": "code",
   "execution_count": 13,
   "metadata": {},
   "outputs": [
    {
     "name": "stdout",
     "output_type": "stream",
     "text": [
      "10\n",
      "om\n",
      "<class 'str'>\n",
      "100\n",
      "<class 'int'>\n"
     ]
    }
   ],
   "source": [
    "x=10\n",
    "name=\"om\"\n",
    "print(x)\n",
    "print(name)\n",
    "print(type(name))\n",
    "\n",
    "name=100\n",
    "print(name)\n",
    "print(type(name))"
   ]
  },
  {
   "cell_type": "markdown",
   "metadata": {},
   "source": [
    "Name Error"
   ]
  },
  {
   "cell_type": "code",
   "execution_count": 15,
   "metadata": {},
   "outputs": [
    {
     "name": "stdout",
     "output_type": "stream",
     "text": [
      "100\n"
     ]
    }
   ],
   "source": [
    "a=100\n",
    "b=a\n",
    "print(b)"
   ]
  },
  {
   "cell_type": "markdown",
   "metadata": {},
   "source": [
    "Command Syntax Errors in Python\n",
    "Same Code to explain\n"
   ]
  },
  {
   "cell_type": "code",
   "execution_count": 17,
   "metadata": {},
   "outputs": [
    {
     "name": "stdout",
     "output_type": "stream",
     "text": [
      "peter has valid number 55\n"
     ]
    }
   ],
   "source": [
    "# Variable Assigment and Type Interfence\n",
    "x=5\n",
    "name=\"peter\"\n",
    "is_active=True\n",
    "\n",
    "# Correct Syntax : Conditional Statement\n",
    "if(x>0):\n",
    "    print(f\"{name} has valid number {x}\")\n",
    "else:\n",
    "    print(f\"{name} has  not valid number {x}\")"
   ]
  }
 ],
 "metadata": {
  "kernelspec": {
   "display_name": "base",
   "language": "python",
   "name": "python3"
  },
  "language_info": {
   "codemirror_mode": {
    "name": "ipython",
    "version": 3
   },
   "file_extension": ".py",
   "mimetype": "text/x-python",
   "name": "python",
   "nbconvert_exporter": "python",
   "pygments_lexer": "ipython3",
   "version": "3.12.7"
  }
 },
 "nbformat": 4,
 "nbformat_minor": 2
}
