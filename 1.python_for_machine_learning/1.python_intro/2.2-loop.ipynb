{
 "cells": [
  {
   "cell_type": "markdown",
   "metadata": {},
   "source": [
    "# Loops in Python\n",
    "\n",
    "Loops are an essential control structure in Python that allow us to execute a block of code multiple times. Python supports two primary loop types: **for loops** and **while loops**.\n",
    "\n",
    "## Table of Contents\n",
    "1. [For Loop](#for-loop)\n",
    "2. [While Loop](#while-loop)\n",
    "3. [Break Statement](#break-statement)\n",
    "4. [Continue Statement](#continue-statement)\n",
    "5. [Else in Loops](#else-in-loops)\n",
    "6. [Examples](#examples)\n",
    "\n",
    "---\n",
    "\n",
    "## For Loop\n",
    "The `for` loop is used to iterate over a sequence (like a list, tuple, dictionary, set, or string).\n",
    "\n",
    "### Syntax:\n",
    "```python\n",
    "for variable in sequence:\n",
    "    # Code block to execute\n",
    "```\n",
    "\n",
    "### Example:\n",
    "```python\n",
    "fruits = [\"apple\", \"banana\", \"cherry\"]\n",
    "for fruit in fruits:\n",
    "    print(fruit)\n",
    "```\n",
    "**Output:**\n",
    "```\n",
    "apple\n",
    "banana\n",
    "cherry\n",
    "```\n",
    "\n",
    "---\n",
    "\n",
    "## While Loop\n",
    "The `while` loop executes as long as a specified condition is `True`.\n",
    "\n",
    "### Syntax:\n",
    "```python\n",
    "while condition:\n",
    "    # Code block to execute\n",
    "```\n",
    "\n",
    "### Example:\n",
    "```python\n",
    "count = 0\n",
    "while count < 5:\n",
    "    print(count)\n",
    "    count += 1\n",
    "```\n",
    "**Output:**\n",
    "```\n",
    "0\n",
    "1\n",
    "2\n",
    "3\n",
    "4\n",
    "```\n",
    "\n",
    "---\n",
    "\n",
    "## Break Statement\n",
    "The `break` statement is used to exit the loop prematurely when a certain condition is met.\n",
    "\n",
    "### Example:\n",
    "```python\n",
    "for num in range(10):\n",
    "    if num == 5:\n",
    "        break\n",
    "    print(num)\n",
    "```\n",
    "**Output:**\n",
    "```\n",
    "0\n",
    "1\n",
    "2\n",
    "3\n",
    "4\n",
    "```\n",
    "\n",
    "---\n",
    "\n",
    "## Continue Statement\n",
    "The `continue` statement is used to skip the current iteration and move to the next iteration of the loop.\n",
    "\n",
    "### Example:\n",
    "```python\n",
    "for num in range(5):\n",
    "    if num == 2:\n",
    "        continue\n",
    "    print(num)\n",
    "```\n",
    "**Output:**\n",
    "```\n",
    "0\n",
    "1\n",
    "3\n",
    "4\n",
    "```\n",
    "\n",
    "---\n",
    "\n",
    "## Else in Loops\n",
    "The `else` block in a loop executes after the loop completes, unless the loop is terminated with a `break` statement.\n",
    "\n",
    "### Example:\n",
    "```python\n",
    "for num in range(5):\n",
    "    print(num)\n",
    "else:\n",
    "    print(\"Loop completed\")\n",
    "```\n",
    "**Output:**\n",
    "```\n",
    "0\n",
    "1\n",
    "2\n",
    "3\n",
    "4\n",
    "Loop completed\n",
    "```\n",
    "\n",
    "---\n",
    "\n",
    "## Examples\n",
    "\n",
    "### Nested Loops\n",
    "A loop inside another loop is called a nested loop.\n",
    "```python\n",
    "for i in range(3):\n",
    "    for j in range(2):\n",
    "        print(f\"i: {i}, j: {j}\")\n",
    "```\n",
    "**Output:**\n",
    "```\n",
    "i: 0, j: 0\n",
    "i: 0, j: 1\n",
    "i: 1, j: 0\n",
    "i: 1, j: 1\n",
    "i: 2, j: 0\n",
    "i: 2, j: 1\n",
    "```\n",
    "\n",
    "### Infinite Loop\n",
    "An infinite loop runs indefinitely unless stopped manually or with a `break` statement.\n",
    "```python\n",
    "while True:\n",
    "    print(\"This will run forever unless stopped!\")\n",
    "    break  # Preventing infinite loop\n",
    "```\n",
    "\n"
   ]
  },
  {
   "cell_type": "code",
   "execution_count": 1,
   "metadata": {},
   "outputs": [
    {
     "name": "stdout",
     "output_type": "stream",
     "text": [
      "apple\n",
      "banana\n",
      "mango\n"
     ]
    }
   ],
   "source": [
    "# for loop\n",
    "friuts =[\"apple\",\"banana\",\"mango\"]\n",
    "\n",
    "for item in friuts:\n",
    "    print(item)"
   ]
  },
  {
   "cell_type": "code",
   "execution_count": 4,
   "metadata": {},
   "outputs": [
    {
     "name": "stdout",
     "output_type": "stream",
     "text": [
      "Value of item: 0\n",
      "Value of item: 1\n",
      "Value of item: 2\n",
      "Value of item: 3\n",
      "Value of item: 4\n",
      "Value of item: 5\n",
      "Value of item: 6\n",
      "Value of item: 7\n",
      "Value of item: 8\n",
      "Value of item: 9\n"
     ]
    }
   ],
   "source": [
    "# for loop on range\n",
    "for item in range(10):\n",
    "    print(f\"Value of item: {item}\")"
   ]
  },
  {
   "cell_type": "code",
   "execution_count": 7,
   "metadata": {},
   "outputs": [
    {
     "name": "stdout",
     "output_type": "stream",
     "text": [
      "M\n",
      "a\n",
      "n\n",
      "i\n",
      "s\n",
      "h\n"
     ]
    }
   ],
   "source": [
    "# for loop to iterate String\n",
    "name = \"Manish\"\n",
    "for char in name:\n",
    "    print(char)"
   ]
  },
  {
   "cell_type": "code",
   "execution_count": null,
   "metadata": {},
   "outputs": [],
   "source": [
    "# while loop -repeats as long as a specified contition is true\n",
    "#while condition\n",
    "i=1\n",
    "while True:\n",
    "    print(i)\n",
    "    i=i+1"
   ]
  },
  {
   "cell_type": "code",
   "execution_count": 7,
   "metadata": {},
   "outputs": [
    {
     "name": "stdout",
     "output_type": "stream",
     "text": [
      "1\n",
      "2\n",
      "3\n",
      "4\n",
      "5\n",
      "6\n"
     ]
    }
   ],
   "source": [
    "# while loop -repeats as long as a specified contition is true\n",
    "#while condition\n",
    "i=1\n",
    "while i <= 6:\n",
    "    print(i)\n",
    "    i=i+1"
   ]
  },
  {
   "cell_type": "code",
   "execution_count": 8,
   "metadata": {},
   "outputs": [
    {
     "name": "stdout",
     "output_type": "stream",
     "text": [
      "Value of i -- 0\n",
      "Value of i -- 1\n",
      "Value of i -- 2\n",
      "Value of i -- 3\n",
      "Value of i -- 4\n",
      "Value of i -- 5\n",
      "Value of i -- 6\n",
      "Value of i -- 7\n",
      "Value of i -- 8\n",
      "Value of i -- 9\n"
     ]
    }
   ],
   "source": [
    "# while loop with a break condition\n",
    "i = 0\n",
    "while True:\n",
    "    print(f\"Value of i -- {i}\")\n",
    "    i = i+1\n",
    "    if i == 10:\n",
    "        break"
   ]
  },
  {
   "cell_type": "code",
   "execution_count": 15,
   "metadata": {},
   "outputs": [
    {
     "name": "stdout",
     "output_type": "stream",
     "text": [
      "Value is -- 0\n",
      "Value is -- 1\n",
      "Value is -- 2\n",
      "Value is -- 3\n",
      "Value is -- 4\n",
      "Value is -- 6\n",
      "Value is -- 7\n",
      "Value is -- 8\n",
      "Value is -- 9\n"
     ]
    }
   ],
   "source": [
    "for value in range(10):\n",
    "    if value == 5:  # Check the condition\n",
    "        continue    # Skip the rest of the loop for this iteration\n",
    "    print(f\"Value is -- {value}\")\n"
   ]
  },
  {
   "cell_type": "code",
   "execution_count": 16,
   "metadata": {},
   "outputs": [
    {
     "name": "stdout",
     "output_type": "stream",
     "text": [
      "f Value is -- {item}\n",
      "f Value is -- {item}\n",
      "f Value is -- {item}\n",
      "f Value is -- {item}\n",
      "f Value is -- {item}\n",
      "f Value is -- {item}\n",
      "f Value is -- {item}\n",
      "f Value is -- {item}\n",
      "f Value is -- {item}\n",
      "f Value is -- {item}\n",
      "Lopp successfully completed \n"
     ]
    }
   ],
   "source": [
    "# Else with loop\n",
    "for item in range(10):\n",
    "    print(\"f Value is -- {item}\")\n",
    "else:\n",
    "    print(\"Lopp successfully completed \")"
   ]
  }
 ],
 "metadata": {
  "kernelspec": {
   "display_name": "base",
   "language": "python",
   "name": "python3"
  },
  "language_info": {
   "codemirror_mode": {
    "name": "ipython",
    "version": 3
   },
   "file_extension": ".py",
   "mimetype": "text/x-python",
   "name": "python",
   "nbconvert_exporter": "python",
   "pygments_lexer": "ipython3",
   "version": "3.12.7"
  }
 },
 "nbformat": 4,
 "nbformat_minor": 2
}
