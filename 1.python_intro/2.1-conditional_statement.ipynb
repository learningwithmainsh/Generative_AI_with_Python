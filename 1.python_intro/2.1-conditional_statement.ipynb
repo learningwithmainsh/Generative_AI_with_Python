{
 "cells": [
  {
   "cell_type": "markdown",
   "metadata": {},
   "source": [
    "# Python Conditional Statements\n",
    "\n",
    "Conditional statements in Python allow you to execute specific blocks of code based on certain conditions. They are fundamental in decision-making processes in any program.\n",
    "\n",
    "## Syntax\n",
    "\n",
    "```python\n",
    "if condition:\n",
    "    # Code to execute if condition is true\n",
    "elif another_condition:\n",
    "    # Code to execute if another_condition is true\n",
    "else:\n",
    "    # Code to execute if all conditions are false\n",
    "```\n",
    "\n",
    "## Examples\n",
    "\n",
    "### 1. Using `if`\n",
    "\n",
    "```python\n",
    "# Example 1: Checking if a number is positive\n",
    "number = 10\n",
    "if number > 0:\n",
    "    print(\"The number is positive.\")\n",
    "```\n",
    "\n",
    "**Output:**\n",
    "```\n",
    "The number is positive.\n",
    "```\n",
    "\n",
    "### 2. Using `if-else`\n",
    "\n",
    "```python\n",
    "# Example 2: Checking if a number is positive or negative\n",
    "number = -5\n",
    "if number > 0:\n",
    "    print(\"The number is positive.\")\n",
    "else:\n",
    "    print(\"The number is negative.\")\n",
    "```\n",
    "\n",
    "**Output:**\n",
    "```\n",
    "The number is negative.\n",
    "```\n",
    "\n",
    "### 3. Using `if-elif-else`\n",
    "\n",
    "```python\n",
    "# Example 3: Checking if a number is positive, negative, or zero\n",
    "number = 0\n",
    "if number > 0:\n",
    "    print(\"The number is positive.\")\n",
    "elif number == 0:\n",
    "    print(\"The number is zero.\")\n",
    "else:\n",
    "    print(\"The number is negative.\")\n",
    "```\n",
    "\n",
    "**Output:**\n",
    "```\n",
    "The number is zero.\n",
    "```\n",
    "\n",
    "### 4. Nested `if`\n",
    "\n",
    "```python\n",
    "# Example 4: Checking multiple conditions with nested if\n",
    "number = 10\n",
    "if number > 0:\n",
    "    if number % 2 == 0:\n",
    "        print(\"The number is positive and even.\")\n",
    "    else:\n",
    "        print(\"The number is positive and odd.\")\n",
    "else:\n",
    "    print(\"The number is not positive.\")\n",
    "```\n",
    "\n",
    "**Output:**\n",
    "```\n",
    "The number is positive and even.\n",
    "```\n",
    "\n",
    "## Logical Operators with Conditionals\n",
    "\n",
    "Python supports logical operators like `and`, `or`, and `not` to combine conditions.\n",
    "\n",
    "### Example\n",
    "\n",
    "```python\n",
    "# Example 5: Combining conditions with logical operators\n",
    "age = 25\n",
    "is_student = True\n",
    "if age > 18 and is_student:\n",
    "    print(\"The person is an adult student.\")\n",
    "```\n",
    "\n",
    "**Output:**\n",
    "```\n",
    "The person is an adult student.\n",
    "```\n",
    "\n",
    "## Quick Notes\n",
    "- Python uses indentation to define the scope of `if`, `elif`, and `else` blocks.\n",
    "- Any non-zero or non-empty value is considered `True`, while `0` or empty values like `\"\"`, `[]`, `{}` are considered `False`.\n",
    "\n",
    "## Practice Problem\n",
    "Write a Python script to categorize a person based on their age:\n",
    "- `0-12`: Child\n",
    "- `13-19`: Teenager\n",
    "- `20-64`: Adult\n",
    "- `65 and above`: Senior\n",
    "\n",
    "```python\n",
    "# Your code here\n",
    "```\n",
    "\n",
    "\n"
   ]
  },
  {
   "cell_type": "code",
   "execution_count": 1,
   "metadata": {},
   "outputs": [
    {
     "name": "stdout",
     "output_type": "stream",
     "text": [
      "The number is positive.\n"
     ]
    }
   ],
   "source": [
    "# Example 1: Checking if a number is positive\n",
    "number = 10\n",
    "if number > 0:\n",
    "    print(\"The number is positive.\")"
   ]
  },
  {
   "cell_type": "code",
   "execution_count": 2,
   "metadata": {},
   "outputs": [
    {
     "name": "stdout",
     "output_type": "stream",
     "text": [
      "The number is negative.\n"
     ]
    }
   ],
   "source": [
    "# Example 2: Checking if a number is positive or negative\n",
    "number = -5\n",
    "if number > 0:\n",
    "    print(\"The number is positive.\")\n",
    "else:\n",
    "    print(\"The number is negative.\")"
   ]
  },
  {
   "cell_type": "code",
   "execution_count": 3,
   "metadata": {},
   "outputs": [
    {
     "name": "stdout",
     "output_type": "stream",
     "text": [
      "The number is zero.\n"
     ]
    }
   ],
   "source": [
    "# Example 3: Checking if a number is positive, negative, or zero\n",
    "number = 0\n",
    "if number > 0:\n",
    "    print(\"The number is positive.\")\n",
    "elif number == 0:\n",
    "    print(\"The number is zero.\")\n",
    "else:\n",
    "    print(\"The number is negative.\")"
   ]
  },
  {
   "cell_type": "code",
   "execution_count": 4,
   "metadata": {},
   "outputs": [
    {
     "name": "stdout",
     "output_type": "stream",
     "text": [
      "The number is positive and even.\n"
     ]
    }
   ],
   "source": [
    "# Example 4: Checking multiple conditions with nested if\n",
    "number = 10\n",
    "if number > 0:\n",
    "    if number % 2 == 0:\n",
    "        print(\"The number is positive and even.\")\n",
    "    else:\n",
    "        print(\"The number is positive and odd.\")\n",
    "else:\n",
    "    print(\"The number is not positive.\")"
   ]
  },
  {
   "cell_type": "code",
   "execution_count": 9,
   "metadata": {},
   "outputs": [
    {
     "name": "stdout",
     "output_type": "stream",
     "text": [
      "you are adult\n",
      "you need a License to Drive...\n"
     ]
    }
   ],
   "source": [
    "age =25\n",
    "has_license = False\n",
    "\n",
    "if age>=18:\n",
    "    print(\"you are adult\")\n",
    "\n",
    "    if has_license:\n",
    "        print(\"you can drive...\")\n",
    "\n",
    "    else:\n",
    "        print(\"you need a License to Drive...\")\n",
    "else:\n",
    "    print(\"you are minor, not allowed to have to have drive license\")"
   ]
  }
 ],
 "metadata": {
  "kernelspec": {
   "display_name": "Python 3",
   "language": "python",
   "name": "python3"
  },
  "language_info": {
   "codemirror_mode": {
    "name": "ipython",
    "version": 3
   },
   "file_extension": ".py",
   "mimetype": "text/x-python",
   "name": "python",
   "nbconvert_exporter": "python",
   "pygments_lexer": "ipython3",
   "version": "3.12.3"
  }
 },
 "nbformat": 4,
 "nbformat_minor": 2
}
